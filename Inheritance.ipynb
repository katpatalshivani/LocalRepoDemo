{
 "cells": [
  {
   "cell_type": "code",
   "execution_count": 3,
   "id": "84461de4",
   "metadata": {},
   "outputs": [],
   "source": [
    "class Shape:\n",
    "    def __init__(self, shape_type, color = 'Red'):\n",
    "        self.__shape_type = shape_type\n",
    "        self.__color = color\n",
    "        \n",
    "    def get_shape(self):\n",
    "        return self.__shape_type\n",
    "    \n",
    "    def get_color(self):\n",
    "        return self.__color\n",
    "    \n",
    "    def get_perimeter(self):\n",
    "        pass\n",
    "    \n",
    "    def get_area(self):\n",
    "        pass"
   ]
  },
  {
   "cell_type": "code",
   "execution_count": 121,
   "id": "8c0b242a",
   "metadata": {},
   "outputs": [],
   "source": [
    "import math\n",
    "\n",
    "class Circle(Shape):\n",
    "    def __init__(self,color,radius):\n",
    "        Shape.__init__(self,'circle',color)\n",
    "        \n",
    "        self.__radius = radius\n",
    "        \n",
    "    def get_perimeter(self):\n",
    "        return 2* math.pi * self.__radius\n",
    "    \n",
    "    def get_area(self):\n",
    "        return math.pi*self.__radius*self.__radius\n",
    "        \n",
    "    "
   ]
  },
  {
   "cell_type": "code",
   "execution_count": 128,
   "id": "52223c97",
   "metadata": {},
   "outputs": [],
   "source": [
    "class Square(Shape):\n",
    "    def __init__(self,color,side):\n",
    "        Shape.__init__(self,'square',color)\n",
    "        \n",
    "        self.__side = side\n",
    "        \n",
    "    def get_perimeter(self):\n",
    "        return 4 * self.__side\n",
    "    \n",
    "    def get_area(self):\n",
    "        return self.__side * self.__side"
   ]
  },
  {
   "cell_type": "code",
   "execution_count": 129,
   "id": "04557d25",
   "metadata": {},
   "outputs": [],
   "source": [
    "c1 = Circle('orange',5)\n",
    "s1 = Square('Black',10)"
   ]
  },
  {
   "cell_type": "code",
   "execution_count": 130,
   "id": "9fb521d8",
   "metadata": {},
   "outputs": [
    {
     "name": "stdout",
     "output_type": "stream",
     "text": [
      "circle\n",
      "square\n"
     ]
    }
   ],
   "source": [
    "print(c1.get_shape())\n",
    "print(s1.get_shape())"
   ]
  },
  {
   "cell_type": "code",
   "execution_count": 131,
   "id": "79ac0caa",
   "metadata": {},
   "outputs": [
    {
     "name": "stdout",
     "output_type": "stream",
     "text": [
      "orange\n",
      "Black\n"
     ]
    }
   ],
   "source": [
    "print(c1.get_color())\n",
    "print(s1.get_color())"
   ]
  },
  {
   "cell_type": "code",
   "execution_count": 132,
   "id": "b7385018",
   "metadata": {},
   "outputs": [
    {
     "name": "stdout",
     "output_type": "stream",
     "text": [
      "area of circle: 78.53981633974483\n",
      "perimeter of circle: 31.41592653589793\n"
     ]
    }
   ],
   "source": [
    "print('area of circle:',c1.get_area())\n",
    "print('perimeter of circle:',c1.get_perimeter())"
   ]
  },
  {
   "cell_type": "code",
   "execution_count": 133,
   "id": "1d3ca21e",
   "metadata": {},
   "outputs": [
    {
     "name": "stdout",
     "output_type": "stream",
     "text": [
      "area of square: 100\n",
      "perimeter of square: 40\n"
     ]
    }
   ],
   "source": [
    "print('area of square:',s1.get_area())\n",
    "print('perimeter of square:',s1.get_perimeter())"
   ]
  },
  {
   "cell_type": "markdown",
   "id": "71c68ee5",
   "metadata": {},
   "source": [
    "# Super class and sub class hierarchies"
   ]
  },
  {
   "cell_type": "code",
   "execution_count": 16,
   "id": "b50fb8ab",
   "metadata": {},
   "outputs": [],
   "source": [
    "class Competition:\n",
    "    __raiseAmount = 0.05\n",
    "    \n",
    "    def __init__(self,compName, prizeAmt):\n",
    "        self.__compName = compName\n",
    "        self.__prizeAmt = prizeAmt\n",
    "        \n",
    "    def getCompName(self):\n",
    "        return self.__compName\n",
    "    \n",
    "    def getprizeAmt(self):\n",
    "        return self.__prizeAmt\n",
    "    \n",
    "    def raisePrize(self):\n",
    "        self.__prizeAmt = self.__prizeAmt + (self.__prizeAmt * self.__raiseAmount)\n",
    "    "
   ]
  },
  {
   "cell_type": "code",
   "execution_count": 14,
   "id": "c90a9c59",
   "metadata": {},
   "outputs": [
    {
     "name": "stdout",
     "output_type": "stream",
     "text": [
      "Help on class Competition in module __main__:\n",
      "\n",
      "class Competition(builtins.object)\n",
      " |  Competition(compName, prizeAmt)\n",
      " |  \n",
      " |  Methods defined here:\n",
      " |  \n",
      " |  __init__(self, compName, prizeAmt)\n",
      " |      Initialize self.  See help(type(self)) for accurate signature.\n",
      " |  \n",
      " |  getCompName(self)\n",
      " |  \n",
      " |  getprizeAmt(self)\n",
      " |  \n",
      " |  raisePrize(self)\n",
      " |  \n",
      " |  ----------------------------------------------------------------------\n",
      " |  Data descriptors defined here:\n",
      " |  \n",
      " |  __dict__\n",
      " |      dictionary for instance variables (if defined)\n",
      " |  \n",
      " |  __weakref__\n",
      " |      list of weak references to the object (if defined)\n",
      "\n"
     ]
    }
   ],
   "source": [
    "help(Competition)"
   ]
  },
  {
   "cell_type": "code",
   "execution_count": 17,
   "id": "a0f39751",
   "metadata": {},
   "outputs": [
    {
     "data": {
      "text/plain": [
       "525.0"
      ]
     },
     "execution_count": 17,
     "metadata": {},
     "output_type": "execute_result"
    }
   ],
   "source": [
    "draw = Competition('Draw',500)\n",
    "draw.getprizeAmt()\n",
    "draw.raisePrize()\n",
    "draw.getprizeAmt()"
   ]
  },
  {
   "cell_type": "code",
   "execution_count": 20,
   "id": "57eb041d",
   "metadata": {},
   "outputs": [],
   "source": [
    "class Race(Competition):\n",
    "    pass"
   ]
  },
  {
   "cell_type": "code",
   "execution_count": 21,
   "id": "513b1eb3",
   "metadata": {},
   "outputs": [
    {
     "name": "stdout",
     "output_type": "stream",
     "text": [
      "Help on class Race in module __main__:\n",
      "\n",
      "class Race(Competition)\n",
      " |  Race(compName, prizeAmt)\n",
      " |  \n",
      " |  Method resolution order:\n",
      " |      Race\n",
      " |      Competition\n",
      " |      builtins.object\n",
      " |  \n",
      " |  Methods inherited from Competition:\n",
      " |  \n",
      " |  __init__(self, compName, prizeAmt)\n",
      " |      Initialize self.  See help(type(self)) for accurate signature.\n",
      " |  \n",
      " |  getCompName(self)\n",
      " |  \n",
      " |  getprizeAmt(self)\n",
      " |  \n",
      " |  raisePrize(self)\n",
      " |  \n",
      " |  ----------------------------------------------------------------------\n",
      " |  Data descriptors inherited from Competition:\n",
      " |  \n",
      " |  __dict__\n",
      " |      dictionary for instance variables (if defined)\n",
      " |  \n",
      " |  __weakref__\n",
      " |      list of weak references to the object (if defined)\n",
      "\n"
     ]
    }
   ],
   "source": [
    "help(Race)"
   ]
  },
  {
   "cell_type": "code",
   "execution_count": 25,
   "id": "1e34e3c0",
   "metadata": {},
   "outputs": [
    {
     "data": {
      "text/plain": [
       "5250.0"
      ]
     },
     "execution_count": 25,
     "metadata": {},
     "output_type": "execute_result"
    }
   ],
   "source": [
    "race = Race('Sprint_Race', 5000)\n",
    "type(race)\n",
    "race.raisePrize()\n",
    "race.getprizeAmt()"
   ]
  },
  {
   "cell_type": "code",
   "execution_count": 29,
   "id": "903525a8",
   "metadata": {},
   "outputs": [],
   "source": [
    "'''\n",
    "class Competition:\n",
    "    __raiseAmount = 0.05\n",
    "    \n",
    "    def __init__(self,compName, prizeAmt):\n",
    "        self.__compName = compName\n",
    "        self.__prizeAmt = prizeAmt\n",
    "        \n",
    "    def getCompName(self):\n",
    "        return self.__compName\n",
    "    \n",
    "    def getprizeAmt(self):\n",
    "        return self.__prizeAmt\n",
    "    \n",
    "    def raisePrize(self):\n",
    "        self.__prizeAmt = self.__prizeAmt + (self.__prizeAmt * self.__raiseAmount)\n",
    "    \n",
    "'''\n",
    "\n",
    "class Cycling(Competition):\n",
    "    def __init__(self,compName, prizeAmt,country):\n",
    "        super().__init__(compName,prizeAmt)\n",
    "        self.__country = country\n",
    "        \n",
    "    def getCountry(self):\n",
    "        return self.__country\n",
    "        "
   ]
  },
  {
   "cell_type": "code",
   "execution_count": 31,
   "id": "89a088e0",
   "metadata": {},
   "outputs": [
    {
     "data": {
      "text/plain": [
       "('Cycling_100meter', 10000, 'India')"
      ]
     },
     "execution_count": 31,
     "metadata": {},
     "output_type": "execute_result"
    }
   ],
   "source": [
    "cycle = Cycling('Cycling_100meter', 10000, 'India')\n",
    "cycle.getCompName(), cycle.getprizeAmt(), cycle.getCountry()"
   ]
  },
  {
   "cell_type": "code",
   "execution_count": 33,
   "id": "5902a5ba",
   "metadata": {},
   "outputs": [
    {
     "data": {
      "text/plain": [
       "True"
      ]
     },
     "execution_count": 33,
     "metadata": {},
     "output_type": "execute_result"
    }
   ],
   "source": [
    "issubclass(Cycling,Competition)"
   ]
  },
  {
   "cell_type": "markdown",
   "id": "5ec4c45a",
   "metadata": {},
   "source": [
    "# Multiple Inheritence"
   ]
  },
  {
   "cell_type": "code",
   "execution_count": 35,
   "id": "2786ecf3",
   "metadata": {},
   "outputs": [],
   "source": [
    "class Employee:\n",
    "    \n",
    "    def __init__(self,name,age):\n",
    "        self.__name = name\n",
    "        self.__age = age\n",
    "        \n",
    "    def getName(self):\n",
    "        return self.__name\n",
    "    \n",
    "    def getAge(self):\n",
    "        return self.__age"
   ]
  },
  {
   "cell_type": "code",
   "execution_count": 36,
   "id": "415749c3",
   "metadata": {},
   "outputs": [],
   "source": [
    "class Salary:\n",
    "    \n",
    "    def __init__(self,salary):\n",
    "        self.__salary = salary\n",
    "               \n",
    "    def getsalary(self):\n",
    "        return self.__salary"
   ]
  },
  {
   "cell_type": "code",
   "execution_count": 37,
   "id": "1cd68449",
   "metadata": {},
   "outputs": [],
   "source": [
    "class Database(Employee,Salary):\n",
    "    def __init__(self,name,age,salary):\n",
    "        super().__init__(name,age)\n",
    "        super().__init__(name,salary)"
   ]
  },
  {
   "cell_type": "code",
   "execution_count": 38,
   "id": "2ad8ef38",
   "metadata": {},
   "outputs": [
    {
     "name": "stdout",
     "output_type": "stream",
     "text": [
      "Help on class Database in module __main__:\n",
      "\n",
      "class Database(Employee, Salary)\n",
      " |  Database(name, age, salary)\n",
      " |  \n",
      " |  Method resolution order:\n",
      " |      Database\n",
      " |      Employee\n",
      " |      Salary\n",
      " |      builtins.object\n",
      " |  \n",
      " |  Methods defined here:\n",
      " |  \n",
      " |  __init__(self, name, age, salary)\n",
      " |      Initialize self.  See help(type(self)) for accurate signature.\n",
      " |  \n",
      " |  ----------------------------------------------------------------------\n",
      " |  Methods inherited from Employee:\n",
      " |  \n",
      " |  getAge(self)\n",
      " |  \n",
      " |  getName(self)\n",
      " |  \n",
      " |  ----------------------------------------------------------------------\n",
      " |  Data descriptors inherited from Employee:\n",
      " |  \n",
      " |  __dict__\n",
      " |      dictionary for instance variables (if defined)\n",
      " |  \n",
      " |  __weakref__\n",
      " |      list of weak references to the object (if defined)\n",
      " |  \n",
      " |  ----------------------------------------------------------------------\n",
      " |  Methods inherited from Salary:\n",
      " |  \n",
      " |  getsalary(self)\n",
      "\n"
     ]
    }
   ],
   "source": [
    "help(Database)"
   ]
  },
  {
   "cell_type": "markdown",
   "id": "f39d0833",
   "metadata": {},
   "source": [
    "# Multilevel Inheritence"
   ]
  },
  {
   "cell_type": "code",
   "execution_count": 4,
   "id": "05a75930",
   "metadata": {},
   "outputs": [],
   "source": [
    "class GrandParent:\n",
    "    \n",
    "    def __init__(self,city):\n",
    "        self.__city = city\n",
    "        \n",
    "    def getCity(self):\n",
    "        return self.__city"
   ]
  },
  {
   "cell_type": "code",
   "execution_count": 5,
   "id": "9fba09ca",
   "metadata": {},
   "outputs": [],
   "source": [
    "class Parent(GrandParent):\n",
    "    \n",
    "    def __init__(self,city,lastname):\n",
    "        GrandParent.__init__(self,city)\n",
    "        self.__lastname = lastname\n",
    "            \n",
    "    def getLastname(self):\n",
    "        return self.__lastname\n",
    "    "
   ]
  },
  {
   "cell_type": "code",
   "execution_count": 6,
   "id": "5a8de74c",
   "metadata": {},
   "outputs": [
    {
     "data": {
      "text/plain": [
       "('Boston', 'Smith')"
      ]
     },
     "execution_count": 6,
     "metadata": {},
     "output_type": "execute_result"
    }
   ],
   "source": [
    "p1 = Parent('Boston', 'Smith')\n",
    "p1.getCity(),p1.getLastname()"
   ]
  },
  {
   "cell_type": "code",
   "execution_count": 9,
   "id": "201c7727",
   "metadata": {},
   "outputs": [],
   "source": [
    "class Child(Parent):\n",
    "    \n",
    "    def __init__(self,city,lastname,firstname):\n",
    "        Parent.__init__(self,city,lastname)\n",
    "        \n",
    "        self.__firstname = firstname\n",
    "        \n",
    "    def getFirstname(self):\n",
    "        return self.__firstname"
   ]
  },
  {
   "cell_type": "code",
   "execution_count": 12,
   "id": "bf3466f9",
   "metadata": {},
   "outputs": [],
   "source": [
    "elder = Child('Nagpur','Katpatal','Shivani')"
   ]
  },
  {
   "cell_type": "code",
   "execution_count": 13,
   "id": "8aecf65e",
   "metadata": {},
   "outputs": [
    {
     "data": {
      "text/plain": [
       "('Nagpur', 'Katpatal', 'Shivani')"
      ]
     },
     "execution_count": 13,
     "metadata": {},
     "output_type": "execute_result"
    }
   ],
   "source": [
    "elder.getCity(),elder.getLastname(), elder.getFirstname()"
   ]
  },
  {
   "cell_type": "markdown",
   "id": "e418cf4d",
   "metadata": {},
   "source": [
    "# Polymorphism"
   ]
  },
  {
   "cell_type": "code",
   "execution_count": 32,
   "id": "035002e9",
   "metadata": {},
   "outputs": [],
   "source": [
    "class Hominidae:\n",
    "    \n",
    "    def communication(self):\n",
    "        print(\"Hominidae use auditory vocals and visual cues for communication\")\n",
    "        \n",
    "    def walk(self):\n",
    "        print(\"Hominidae are knucle-walkers and swings on tree\")"
   ]
  },
  {
   "cell_type": "code",
   "execution_count": 33,
   "id": "a35a03d5",
   "metadata": {},
   "outputs": [],
   "source": [
    "class Human(Hominidae):\n",
    "    def communication(self):\n",
    "        print(\"Humans use language for communication\")\n",
    "        \n",
    "    def walk(self):\n",
    "        print(\"Humans are biped walkers\")"
   ]
  },
  {
   "cell_type": "code",
   "execution_count": 34,
   "id": "6cf50fc5",
   "metadata": {},
   "outputs": [],
   "source": [
    "class Gorilla(Hominidae):\n",
    "    def communication(self):\n",
    "        print(\"Gorillas use distinct vocalisation for communication\")\n",
    "        \n",
    "    def walk(self):\n",
    "        print(\"Gorillas are biped walkers\")"
   ]
  },
  {
   "cell_type": "code",
   "execution_count": 35,
   "id": "b0a6da81",
   "metadata": {},
   "outputs": [],
   "source": [
    "homi = Hominidae()\n",
    "hum = Human()\n",
    "gor = Gorilla()"
   ]
  },
  {
   "cell_type": "code",
   "execution_count": 38,
   "id": "943bfde3",
   "metadata": {},
   "outputs": [
    {
     "name": "stdout",
     "output_type": "stream",
     "text": [
      "COMMUNICATION\n",
      "----------------------------------------------------\n",
      "Hominidae use auditory vocals and visual cues for communication\n",
      "Humans use language for communication\n",
      "Gorillas use distinct vocalisation for communication\n",
      "----------------------------------------------------\n",
      "WALK\n",
      "----------------------------------------------------\n",
      "Hominidae are knucle-walkers and swings on tree\n",
      "Humans are biped walkers\n",
      "Gorillas are biped walkers\n"
     ]
    }
   ],
   "source": [
    "'''\n",
    "\n",
    "'''\n",
    "print(\"COMMUNICATION\")\n",
    "print(\"----------------------------------------------------\")\n",
    "homi.communication()\n",
    "hum.communication()\n",
    "gor.communication()\n",
    "print(\"----------------------------------------------------\")\n",
    "print(\"WALK\")\n",
    "print(\"----------------------------------------------------\")\n",
    "homi.walk()\n",
    "hum.walk()\n",
    "gor.walk()\n",
    "#homi.communication()"
   ]
  },
  {
   "cell_type": "code",
   "execution_count": null,
   "id": "b82cc5d8",
   "metadata": {},
   "outputs": [],
   "source": [
    "#Example 2\n"
   ]
  },
  {
   "cell_type": "code",
   "execution_count": 40,
   "id": "b1d332b7",
   "metadata": {},
   "outputs": [],
   "source": [
    "class BankAccount:\n",
    "    \n",
    "    def __init__(self,balance):\n",
    "        self.__balance = balance\n",
    "        \n",
    "    def withdraw(self, value):\n",
    "        print(\"Withdraw amount\",value)\n",
    "        self.__balance = self.__balance - value\n",
    "        print(\"Balance after withdrawl:\",self.__balance)\n",
    "        \n",
    "    def deposit(self, value):\n",
    "        print(\"Deposit amount\",value)\n",
    "        self.__balance = self.__balance + value\n",
    "        print(\"Balance after depositing:\",self.__balance)\n",
    "    "
   ]
  },
  {
   "cell_type": "code",
   "execution_count": 56,
   "id": "d96bbf8c",
   "metadata": {},
   "outputs": [],
   "source": [
    "class CurrentAcc(BankAccount):\n",
    "    \n",
    "    def __init__(self,balance):\n",
    "        super().__init__(balance)\n",
    "        \n",
    "    def withdraw(self,value):\n",
    "        if value > 1000:\n",
    "            print(\"Pls contact administrator\")\n",
    "        else:\n",
    "            super().withdraw(value)"
   ]
  },
  {
   "cell_type": "code",
   "execution_count": 57,
   "id": "b3aca575",
   "metadata": {},
   "outputs": [
    {
     "name": "stdout",
     "output_type": "stream",
     "text": [
      "Deposit amount 2000\n",
      "Balance after depositing: 12000\n",
      "Withdrawl\n",
      "Withdraw amount 1000\n",
      "Balance after withdrawl: 11000\n"
     ]
    }
   ],
   "source": [
    "s1=CurrentAcc(10000)\n",
    "s1.deposit(2000)\n",
    "\n",
    "print(\"Withdrawl\")\n",
    "\n",
    "s1.withdraw(1000)"
   ]
  },
  {
   "cell_type": "code",
   "execution_count": null,
   "id": "80547093",
   "metadata": {},
   "outputs": [],
   "source": []
  },
  {
   "cell_type": "code",
   "execution_count": null,
   "id": "932cd71f",
   "metadata": {},
   "outputs": [],
   "source": []
  }
 ],
 "metadata": {
  "kernelspec": {
   "display_name": "Python 3 (ipykernel)",
   "language": "python",
   "name": "python3"
  },
  "language_info": {
   "codemirror_mode": {
    "name": "ipython",
    "version": 3
   },
   "file_extension": ".py",
   "mimetype": "text/x-python",
   "name": "python",
   "nbconvert_exporter": "python",
   "pygments_lexer": "ipython3",
   "version": "3.9.12"
  }
 },
 "nbformat": 4,
 "nbformat_minor": 5
}
