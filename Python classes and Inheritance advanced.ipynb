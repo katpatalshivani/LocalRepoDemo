{
 "cells": [
  {
   "cell_type": "markdown",
   "id": "5239eb82",
   "metadata": {},
   "source": [
    "# __repr__() and __str__()"
   ]
  },
  {
   "cell_type": "code",
   "execution_count": 6,
   "id": "3c292125",
   "metadata": {},
   "outputs": [],
   "source": [
    "class Competiton:\n",
    "    def __init__(self, name,country,prize):\n",
    "        self.__name = name\n",
    "        self.__country = country\n",
    "        self.__prize = prize\n",
    "        \n",
    "    def getNameCountry(self):\n",
    "        return '{}{}'.format(self.__name,self.__country)\n",
    "    \n",
    "    def __repr__(self):\n",
    "        return 'Competition name : {} \\n Country : {} \\n Prize money : {}'.format(self.__name,self.__country,self.__prize)\n",
    "        \n",
    "    def __str__(self):\n",
    "        return '{} - {}'.format(self.getNameCountry(),self.__prize)"
   ]
  },
  {
   "cell_type": "code",
   "execution_count": 7,
   "id": "887dc863",
   "metadata": {},
   "outputs": [],
   "source": [
    "archery = Competiton('Archery','India',25000)"
   ]
  },
  {
   "cell_type": "code",
   "execution_count": 9,
   "id": "1bdf5c25",
   "metadata": {},
   "outputs": [
    {
     "name": "stdout",
     "output_type": "stream",
     "text": [
      "Competition name : Archery \n",
      " Country : India \n",
      " Prize money : 25000\n",
      "-----------------------------------\n"
     ]
    },
    {
     "data": {
      "text/plain": [
       "'ArcheryIndia - 25000'"
      ]
     },
     "execution_count": 9,
     "metadata": {},
     "output_type": "execute_result"
    }
   ],
   "source": [
    "print(repr(archery))\n",
    "print(\"-----------------------------------\")\n",
    "str(archery)"
   ]
  },
  {
   "cell_type": "markdown",
   "id": "16e41b0a",
   "metadata": {},
   "source": [
    "# __add__()"
   ]
  },
  {
   "cell_type": "code",
   "execution_count": 13,
   "id": "3f8fabc1",
   "metadata": {},
   "outputs": [],
   "source": [
    "class Savings:\n",
    "    \n",
    "    def __init__(self,amount):\n",
    "        self.__amount = amount\n",
    "        \n",
    "    def __add__(self,self1):\n",
    "        return self.__amount +  self1.__amount"
   ]
  },
  {
   "cell_type": "code",
   "execution_count": 14,
   "id": "2889b115",
   "metadata": {},
   "outputs": [],
   "source": [
    "s1 = Savings(1000)\n",
    "s2 = Savings(4000)"
   ]
  },
  {
   "cell_type": "code",
   "execution_count": 15,
   "id": "444a6846",
   "metadata": {},
   "outputs": [
    {
     "data": {
      "text/plain": [
       "5000"
      ]
     },
     "execution_count": 15,
     "metadata": {},
     "output_type": "execute_result"
    }
   ],
   "source": [
    "s1+s2"
   ]
  },
  {
   "cell_type": "markdown",
   "id": "2bde74a2",
   "metadata": {},
   "source": [
    "# __iter__() and __next__()"
   ]
  },
  {
   "cell_type": "code",
   "execution_count": 5,
   "id": "e499ce3b",
   "metadata": {},
   "outputs": [],
   "source": [
    "class Participants:\n",
    "    \n",
    "    def __init__(self):\n",
    "        self.__participants = []\n",
    "        self.__index=0\n",
    "        \n",
    "    def addParticipants(self,name):\n",
    "        return self.__participants.append(name)\n",
    "    \n",
    "    def __len__(self):\n",
    "        return len(self.__participants)\n",
    "    \n",
    "    def __iter__(self):\n",
    "        self.__index = 0\n",
    "        return self\n",
    "    \n",
    "    def __next__(self):\n",
    "        if self.__index == len(self.__participants):\n",
    "            raise StopIteration\n",
    "            \n",
    "        p = self.__participants[self.__index]\n",
    "        self.__index += 1\n",
    "        \n",
    "        return p"
   ]
  },
  {
   "cell_type": "code",
   "execution_count": 6,
   "id": "2a114c55",
   "metadata": {},
   "outputs": [
    {
     "name": "stdout",
     "output_type": "stream",
     "text": [
      "Harry\n",
      "Lily\n",
      "James\n",
      "Hagrid\n"
     ]
    }
   ],
   "source": [
    "par = Participants()\n",
    "\n",
    "par.addParticipants(\"Harry\")\n",
    "par.addParticipants(\"Lily\")\n",
    "par.addParticipants(\"James\")\n",
    "par.addParticipants(\"Hagrid\")\n",
    "\n",
    "for i in par:\n",
    "    print(i)"
   ]
  },
  {
   "cell_type": "markdown",
   "id": "7d76caf6",
   "metadata": {},
   "source": [
    "# Decorator"
   ]
  },
  {
   "cell_type": "code",
   "execution_count": 18,
   "id": "0191cb85",
   "metadata": {},
   "outputs": [],
   "source": [
    "class Wrestler:\n",
    "    \n",
    "    def __init__(self,name,age):\n",
    "        self.__name = name\n",
    "        self.__age = age\n",
    "        \n",
    "    @property\n",
    "    def name(self):\n",
    "        print(\"Getter name method called\")\n",
    "        return self.__name\n",
    "    \n",
    "    @name.setter\n",
    "    def name(self,value):\n",
    "        print(\"Setter name method called\")\n",
    "        self.__name = value\n",
    "        \n",
    "    @name.deleter\n",
    "    def name(self):\n",
    "        print(\"Deleter name method called\")\n",
    "        del self.__name\n",
    "        \n",
    "    @property\n",
    "    def age(self):\n",
    "        print(\"Getter age method called\")\n",
    "        return self.__age\n",
    "    \n",
    "    @age.setter\n",
    "    def age(self,value):\n",
    "        print(\"Setter age method called\")\n",
    "        self.__age = value\n",
    "        \n",
    "    @age.deleter\n",
    "    def age(self):\n",
    "        print(\"Deleter age method called\")\n",
    "        del self.__age"
   ]
  },
  {
   "cell_type": "code",
   "execution_count": 19,
   "id": "088dadf7",
   "metadata": {},
   "outputs": [
    {
     "name": "stdout",
     "output_type": "stream",
     "text": [
      "Getter name method called\n",
      "Getter age method called\n"
     ]
    },
    {
     "data": {
      "text/plain": [
       "'\\nw1.name = \"Robert\"\\nw1.age = 35\\nw1.name\\nw1.age\\n'"
      ]
     },
     "execution_count": 19,
     "metadata": {},
     "output_type": "execute_result"
    }
   ],
   "source": [
    "w1 = Wrestler('John',29)\n",
    "w1.name\n",
    "w1.age\n",
    "'''\n",
    "w1.name = \"Robert\"\n",
    "w1.age = 35\n",
    "w1.name\n",
    "w1.age\n",
    "'''\n"
   ]
  },
  {
   "cell_type": "code",
   "execution_count": 20,
   "id": "8ae6530e",
   "metadata": {},
   "outputs": [
    {
     "name": "stdout",
     "output_type": "stream",
     "text": [
      "Setter name method called\n",
      "Setter age method called\n"
     ]
    }
   ],
   "source": [
    "w1.name = 'mark'\n",
    "w1.age = 45"
   ]
  },
  {
   "cell_type": "code",
   "execution_count": 21,
   "id": "517cbdd8",
   "metadata": {},
   "outputs": [
    {
     "name": "stdout",
     "output_type": "stream",
     "text": [
      "Getter name method called\n",
      "Getter age method called\n"
     ]
    },
    {
     "data": {
      "text/plain": [
       "('John', 29)"
      ]
     },
     "execution_count": 21,
     "metadata": {},
     "output_type": "execute_result"
    }
   ],
   "source": [
    "w2 = Wrestler(\"John\",29)\n",
    "w2.name, w2.age"
   ]
  },
  {
   "cell_type": "markdown",
   "id": "33d703ab",
   "metadata": {},
   "source": [
    "# Class Method"
   ]
  },
  {
   "cell_type": "code",
   "execution_count": 27,
   "id": "b05657fc",
   "metadata": {},
   "outputs": [],
   "source": [
    "class Competition:\n",
    "    __raiseAmt = 1.04\n",
    "    \n",
    "    def __init__(self,cname,cprize):\n",
    "        self.__cname = cname\n",
    "        self.__cprize = cprize\n",
    "        \n",
    "    def raisePrize(self):\n",
    "        self.__cprize = self.__cprize * self.__raiseAmt\n",
    "        \n",
    "    def printDetails(self):\n",
    "        return '{},{}'.format(self.__cname,self.__cprize)\n",
    "    @classmethod\n",
    "    def setRaiseAmtbyValue(cls,amt):\n",
    "        cls.__raiseAmt = amt\n",
    "        \n",
    "    @classmethod\n",
    "    def getRaiseAmt(cls):\n",
    "        return cls.__raiseAmt\n",
    "    \n",
    "    @classmethod\n",
    "    def fromStr(cls,mystr):\n",
    "        name,prize = mystr.split('-')\n",
    "        return cls(name,prize)\n",
    "        \n",
    "    "
   ]
  },
  {
   "cell_type": "code",
   "execution_count": 28,
   "id": "081d069a",
   "metadata": {},
   "outputs": [
    {
     "data": {
      "text/plain": [
       "'archery , 8000'"
      ]
     },
     "execution_count": 28,
     "metadata": {},
     "output_type": "execute_result"
    }
   ],
   "source": [
    "archery_str = \"archery - 8000\"\n",
    "\n",
    "c1 = Competition.fromStr(archery_str)\n",
    "c1.printDetails()"
   ]
  },
  {
   "cell_type": "markdown",
   "id": "c096c537",
   "metadata": {},
   "source": [
    "# Abstract Clas and method"
   ]
  },
  {
   "cell_type": "code",
   "execution_count": 34,
   "id": "8d5ac5cb",
   "metadata": {},
   "outputs": [],
   "source": [
    "from abc import ABC, abstractmethod"
   ]
  },
  {
   "cell_type": "code",
   "execution_count": 46,
   "id": "e6c34226",
   "metadata": {},
   "outputs": [],
   "source": [
    "class Hominidae(ABC):\n",
    "    @abstractmethod\n",
    "    def walk(self):\n",
    "        pass\n",
    "    \n",
    "    def diet(self):\n",
    "        pass\n",
    "    \n",
    "    def behaviour(self):\n",
    "        print(\"Shows complex facial expression\")"
   ]
  },
  {
   "cell_type": "code",
   "execution_count": 38,
   "id": "93dcdca2",
   "metadata": {},
   "outputs": [],
   "source": [
    "#before defining abstract method\n",
    "h = Hominidae()"
   ]
  },
  {
   "cell_type": "code",
   "execution_count": 40,
   "id": "d887d55b",
   "metadata": {},
   "outputs": [
    {
     "ename": "TypeError",
     "evalue": "Can't instantiate abstract class Hominidae with abstract method walk",
     "output_type": "error",
     "traceback": [
      "\u001b[1;31m---------------------------------------------------------------------------\u001b[0m",
      "\u001b[1;31mTypeError\u001b[0m                                 Traceback (most recent call last)",
      "Input \u001b[1;32mIn [40]\u001b[0m, in \u001b[0;36m<cell line: 2>\u001b[1;34m()\u001b[0m\n\u001b[0;32m      1\u001b[0m \u001b[38;5;66;03m#after defining abstract method\u001b[39;00m\n\u001b[1;32m----> 2\u001b[0m h1 \u001b[38;5;241m=\u001b[39m \u001b[43mHominidae\u001b[49m\u001b[43m(\u001b[49m\u001b[43m)\u001b[49m\n",
      "\u001b[1;31mTypeError\u001b[0m: Can't instantiate abstract class Hominidae with abstract method walk"
     ]
    }
   ],
   "source": [
    "#after defining abstract method\n",
    "h1 = Hominidae()"
   ]
  },
  {
   "cell_type": "code",
   "execution_count": 47,
   "id": "ab36599a",
   "metadata": {},
   "outputs": [],
   "source": [
    "class Human(Hominidae):\n",
    "    def walk(self):\n",
    "        print(\"humans are bipeds\")\n",
    "        \n",
    "    def diet(self):\n",
    "        print(\"humans are omnivorus\")"
   ]
  },
  {
   "cell_type": "code",
   "execution_count": 48,
   "id": "239996dd",
   "metadata": {},
   "outputs": [
    {
     "name": "stdout",
     "output_type": "stream",
     "text": [
      "humans are bipeds\n",
      "humans are omnivorus\n",
      "Shows complex facial expression\n"
     ]
    }
   ],
   "source": [
    "hum = Human()\n",
    "hum.walk()\n",
    "hum.diet()\n",
    "hum.behaviour()"
   ]
  },
  {
   "cell_type": "code",
   "execution_count": 49,
   "id": "827f1dc7",
   "metadata": {},
   "outputs": [],
   "source": [
    "class BankAccount:\n",
    "    \n",
    "    def __init__(self, balance): \n",
    "        self.__amount = balance                          \n",
    "    \n",
    "    def __mul__(self, other):\n",
    "        if type(other) == int:\n",
    "            return self.__amount * other\n",
    "        else: \n",
    "            raise ValueError('Can only multiply by int')\n",
    "\n",
    "ba = BankAccount(1000)"
   ]
  },
  {
   "cell_type": "code",
   "execution_count": 50,
   "id": "6dbe5060",
   "metadata": {},
   "outputs": [
    {
     "data": {
      "text/plain": [
       "4000"
      ]
     },
     "execution_count": 50,
     "metadata": {},
     "output_type": "execute_result"
    }
   ],
   "source": [
    "ba*4"
   ]
  },
  {
   "cell_type": "code",
   "execution_count": 53,
   "id": "162d686c",
   "metadata": {},
   "outputs": [
    {
     "data": {
      "text/plain": [
       "'Hello'"
      ]
     },
     "execution_count": 53,
     "metadata": {},
     "output_type": "execute_result"
    }
   ],
   "source": [
    "old_str = 'Hello'\n",
    "new_str = old_str\n",
    "new_str = 'World'\n",
    "old_str"
   ]
  },
  {
   "cell_type": "code",
   "execution_count": 55,
   "id": "e0670ed7",
   "metadata": {},
   "outputs": [
    {
     "data": {
      "text/plain": [
       "{'John': 35, 'Jim': 22, 'Jill': 44}"
      ]
     },
     "execution_count": 55,
     "metadata": {},
     "output_type": "execute_result"
    }
   ],
   "source": [
    "dict_a = {\"John\": 35, \"Jim\": 22, \"Jill\": 44}\n",
    "dict_copy = dict_a.copy()\n",
    "dict_copy[\"John\"] = 40\n",
    "dict_a"
   ]
  },
  {
   "cell_type": "code",
   "execution_count": 56,
   "id": "c70296c7",
   "metadata": {},
   "outputs": [
    {
     "data": {
      "text/plain": [
       "['John', 'Amy', 'Jule']"
      ]
     },
     "execution_count": 56,
     "metadata": {},
     "output_type": "execute_result"
    }
   ],
   "source": [
    "old_list = ['John', 'Amy', 'Jule']\n",
    "new_list = old_list.copy()\n",
    "new_list.append('Emily')\n",
    "old_list"
   ]
  },
  {
   "cell_type": "code",
   "execution_count": 57,
   "id": "6535705b",
   "metadata": {},
   "outputs": [
    {
     "data": {
      "text/plain": [
       "['John', 'Amy', 'Jule', 'Emily']"
      ]
     },
     "execution_count": 57,
     "metadata": {},
     "output_type": "execute_result"
    }
   ],
   "source": [
    "old_list = ['John', 'Amy', 'Jule']\n",
    "new_list = old_list\n",
    "new_list.append('Emily')\n",
    "old_list"
   ]
  },
  {
   "cell_type": "code",
   "execution_count": 58,
   "id": "6679eb3f",
   "metadata": {},
   "outputs": [
    {
     "data": {
      "text/plain": [
       "{'Jim': 22, 'Jill': 44}"
      ]
     },
     "execution_count": 58,
     "metadata": {},
     "output_type": "execute_result"
    }
   ],
   "source": [
    "dict_a = {'John': 35, 'Jim': 22, 'Jill': 44}\n",
    "dict_copy = dict_a\n",
    "dict_copy['John'] = 40\n",
    "del dict_copy['John']\n",
    "dict_a\n",
    " "
   ]
  },
  {
   "cell_type": "code",
   "execution_count": null,
   "id": "e7dfe061",
   "metadata": {},
   "outputs": [],
   "source": []
  }
 ],
 "metadata": {
  "kernelspec": {
   "display_name": "Python 3 (ipykernel)",
   "language": "python",
   "name": "python3"
  },
  "language_info": {
   "codemirror_mode": {
    "name": "ipython",
    "version": 3
   },
   "file_extension": ".py",
   "mimetype": "text/x-python",
   "name": "python",
   "nbconvert_exporter": "python",
   "pygments_lexer": "ipython3",
   "version": "3.9.12"
  }
 },
 "nbformat": 4,
 "nbformat_minor": 5
}
